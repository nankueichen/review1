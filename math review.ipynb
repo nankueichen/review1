{
 "cells": [
  {
   "cell_type": "code",
   "execution_count": 1,
   "metadata": {
    "collapsed": true
   },
   "outputs": [],
   "source": [
    "using PyPlot"
   ]
  },
  {
   "cell_type": "markdown",
   "metadata": {},
   "source": [
    "### A 2D image that is to be encoded\n",
    "a2dImage is a 2D matrix with 16 elements (4 x 4)"
   ]
  },
  {
   "cell_type": "code",
   "execution_count": 2,
   "metadata": {
    "collapsed": false
   },
   "outputs": [
    {
     "data": {
      "text/plain": [
       "4×4 Array{Float64,2}:\n",
       " 0.0  0.0  0.0  0.8\n",
       " 0.0  4.4  0.0  0.0\n",
       " 0.0  0.0  0.0  2.2\n",
       " 0.0  0.0  0.0  0.0"
      ]
     },
     "metadata": {},
     "output_type": "display_data"
    },
    {
     "data": {
      "image/png": "[encoded data removed]",
      "text/plain": [
       "PyPlot.Figure(PyObject <matplotlib.figure.Figure object at 0x129639ad0>)"
      ]
     },
     "metadata": {},
     "output_type": "display_data"
    },
    {
     "data": {
      "text/plain": [
       "PyObject <matplotlib.colorbar.Colorbar object at 0x129865d90>"
      ]
     },
     "execution_count": 2,
     "metadata": {},
     "output_type": "execute_result"
    }
   ],
   "source": [
    "a2dImage = zeros(Float64,4,4)\n",
    "a2dImage[2,2] = 4.4\n",
    "a2dImage[1,4] = 0.8\n",
    "a2dImage[3,4] = 2.2\n",
    "display(a2dImage)\n",
    "figure(1);imshow(a2dImage,cmap=\"gray\",interpolation=\"none\"); axis(\"off\"); colorbar()"
   ]
  },
  {
   "cell_type": "markdown",
   "metadata": {},
   "source": [
    "### Encoding of a2dImage signals with a uniform sensitivity pattern"
   ]
  },
  {
   "cell_type": "code",
   "execution_count": 3,
   "metadata": {
    "collapsed": false
   },
   "outputs": [
    {
     "data": {
      "text/plain": [
       "4×4 Array{Float64,2}:\n",
       " 1.0  1.0  1.0  1.0\n",
       " 1.0  1.0  1.0  1.0\n",
       " 1.0  1.0  1.0  1.0\n",
       " 1.0  1.0  1.0  1.0"
      ]
     },
     "metadata": {},
     "output_type": "display_data"
    },
    {
     "data": {
      "text/plain": [
       "7.4"
      ]
     },
     "metadata": {},
     "output_type": "display_data"
    }
   ],
   "source": [
    "c0 = ones(Float64,4,4)\n",
    "display(c0)\n",
    "signal0 = sum(c0.*a2dImage)\n",
    "display(signal0)"
   ]
  },
  {
   "cell_type": "markdown",
   "metadata": {},
   "source": [
    "### Encoding of a2dImage signals with a perfect sensitivity pattern"
   ]
  },
  {
   "cell_type": "code",
   "execution_count": 4,
   "metadata": {
    "collapsed": false
   },
   "outputs": [
    {
     "data": {
      "text/plain": [
       "4×4 Array{Float64,2}:\n",
       " 1.0  0.0  0.0  0.0\n",
       " 0.0  0.0  0.0  0.0\n",
       " 0.0  0.0  0.0  0.0\n",
       " 0.0  0.0  0.0  0.0"
      ]
     },
     "metadata": {},
     "output_type": "display_data"
    },
    {
     "data": {
      "text/plain": [
       "4×4 Array{Float64,2}:\n",
       " 0.0  0.0  0.0  0.0\n",
       " 0.0  1.0  0.0  0.0\n",
       " 0.0  0.0  0.0  0.0\n",
       " 0.0  0.0  0.0  0.0"
      ]
     },
     "metadata": {},
     "output_type": "display_data"
    },
    {
     "data": {
      "text/plain": [
       "4×4 Array{Float64,2}:\n",
       " 0.0  0.0  0.0  0.0\n",
       " 0.0  0.0  0.0  0.0\n",
       " 0.0  0.0  0.0  1.0\n",
       " 0.0  0.0  0.0  0.0"
      ]
     },
     "metadata": {},
     "output_type": "display_data"
    },
    {
     "data": {
      "text/plain": [
       "4.4"
      ]
     },
     "metadata": {},
     "output_type": "display_data"
    }
   ],
   "source": [
    "c1 = zeros(Float64,4,4); c1[1,1]=1;\n",
    "c2 = zeros(Float64,4,4); c2[2,1]=1;\n",
    "c3 = zeros(Float64,4,4); c3[3,1]=1;\n",
    "c4 = zeros(Float64,4,4); c4[4,1]=1;\n",
    "c5 = zeros(Float64,4,4); c5[1,2]=1;\n",
    "c6 = zeros(Float64,4,4); c6[2,2]=1;\n",
    "c7 = zeros(Float64,4,4); c7[3,2]=1;\n",
    "c8 = zeros(Float64,4,4); c8[4,2]=1;\n",
    "c9 = zeros(Float64,4,4); c9[1,3]=1;\n",
    "c10 = zeros(Float64,4,4); c10[2,3]=1;\n",
    "c11 = zeros(Float64,4,4); c11[3,3]=1;\n",
    "c12 = zeros(Float64,4,4); c12[4,3]=1;\n",
    "c13 = zeros(Float64,4,4); c13[1,4]=1;\n",
    "c14 = zeros(Float64,4,4); c14[2,4]=1;\n",
    "c15 = zeros(Float64,4,4); c15[3,4]=1;\n",
    "c16 = zeros(Float64,4,4); c16[4,4]=1;\n",
    "display(c1)\n",
    "display(c6)\n",
    "display(c15)\n",
    "signal6 = sum(c6.*a2dImage)\n",
    "display(signal6)"
   ]
  },
  {
   "cell_type": "code",
   "execution_count": 5,
   "metadata": {
    "collapsed": false
   },
   "outputs": [
    {
     "data": {
      "text/plain": [
       "1×16 RowVector{Float64,Array{Float64,1}}:\n",
       " 0.0  0.0  0.0  0.0  0.0  1.0  0.0  0.0  …  0.0  0.0  0.0  0.0  0.0  0.0  0.0"
      ]
     },
     "metadata": {},
     "output_type": "display_data"
    },
    {
     "data": {
      "text/plain": [
       "16-element Array{Float64,1}:\n",
       " 0.0\n",
       " 0.0\n",
       " 0.0\n",
       " 0.0\n",
       " 0.0\n",
       " 4.4\n",
       " 0.0\n",
       " 0.0\n",
       " 0.0\n",
       " 0.0\n",
       " 0.0\n",
       " 0.0\n",
       " 0.8\n",
       " 0.0\n",
       " 2.2\n",
       " 0.0"
      ]
     },
     "metadata": {},
     "output_type": "display_data"
    },
    {
     "data": {
      "text/plain": [
       "4.4"
      ]
     },
     "metadata": {},
     "output_type": "display_data"
    }
   ],
   "source": [
    "# matrix multiplication\n",
    "c6_row  = c6[:]'\n",
    "display(c6_row)\n",
    "a2dImage_column=a2dImage[:]\n",
    "display(a2dImage_column)\n",
    "signal6 = c6_row*a2dImage_column\n",
    "display(signal6)\n"
   ]
  },
  {
   "cell_type": "code",
   "execution_count": 6,
   "metadata": {
    "collapsed": false
   },
   "outputs": [
    {
     "data": {
      "text/plain": [
       "16×16 Array{Float64,2}:\n",
       " 1.0  0.0  0.0  0.0  0.0  0.0  0.0  0.0  …  0.0  0.0  0.0  0.0  0.0  0.0  0.0\n",
       " 0.0  1.0  0.0  0.0  0.0  0.0  0.0  0.0     0.0  0.0  0.0  0.0  0.0  0.0  0.0\n",
       " 0.0  0.0  1.0  0.0  0.0  0.0  0.0  0.0     0.0  0.0  0.0  0.0  0.0  0.0  0.0\n",
       " 0.0  0.0  0.0  1.0  0.0  0.0  0.0  0.0     0.0  0.0  0.0  0.0  0.0  0.0  0.0\n",
       " 0.0  0.0  0.0  0.0  1.0  0.0  0.0  0.0     0.0  0.0  0.0  0.0  0.0  0.0  0.0\n",
       " 0.0  0.0  0.0  0.0  0.0  1.0  0.0  0.0  …  0.0  0.0  0.0  0.0  0.0  0.0  0.0\n",
       " 0.0  0.0  0.0  0.0  0.0  0.0  1.0  0.0     0.0  0.0  0.0  0.0  0.0  0.0  0.0\n",
       " 0.0  0.0  0.0  0.0  0.0  0.0  0.0  1.0     0.0  0.0  0.0  0.0  0.0  0.0  0.0\n",
       " 0.0  0.0  0.0  0.0  0.0  0.0  0.0  0.0     0.0  0.0  0.0  0.0  0.0  0.0  0.0\n",
       " 0.0  0.0  0.0  0.0  0.0  0.0  0.0  0.0     1.0  0.0  0.0  0.0  0.0  0.0  0.0\n",
       " 0.0  0.0  0.0  0.0  0.0  0.0  0.0  0.0  …  0.0  1.0  0.0  0.0  0.0  0.0  0.0\n",
       " 0.0  0.0  0.0  0.0  0.0  0.0  0.0  0.0     0.0  0.0  1.0  0.0  0.0  0.0  0.0\n",
       " 0.0  0.0  0.0  0.0  0.0  0.0  0.0  0.0     0.0  0.0  0.0  1.0  0.0  0.0  0.0\n",
       " 0.0  0.0  0.0  0.0  0.0  0.0  0.0  0.0     0.0  0.0  0.0  0.0  1.0  0.0  0.0\n",
       " 0.0  0.0  0.0  0.0  0.0  0.0  0.0  0.0     0.0  0.0  0.0  0.0  0.0  1.0  0.0\n",
       " 0.0  0.0  0.0  0.0  0.0  0.0  0.0  0.0  …  0.0  0.0  0.0  0.0  0.0  0.0  1.0"
      ]
     },
     "metadata": {},
     "output_type": "display_data"
    },
    {
     "data": {
      "text/plain": [
       "16-element Array{Float64,1}:\n",
       " 0.0\n",
       " 0.0\n",
       " 0.0\n",
       " 0.0\n",
       " 0.0\n",
       " 4.4\n",
       " 0.0\n",
       " 0.0\n",
       " 0.0\n",
       " 0.0\n",
       " 0.0\n",
       " 0.0\n",
       " 0.8\n",
       " 0.0\n",
       " 2.2\n",
       " 0.0"
      ]
     },
     "metadata": {},
     "output_type": "display_data"
    },
    {
     "data": {
      "text/plain": [
       "16-element Array{Float64,1}:\n",
       " 0.0\n",
       " 0.0\n",
       " 0.0\n",
       " 0.0\n",
       " 0.0\n",
       " 4.4\n",
       " 0.0\n",
       " 0.0\n",
       " 0.0\n",
       " 0.0\n",
       " 0.0\n",
       " 0.0\n",
       " 0.8\n",
       " 0.0\n",
       " 2.2\n",
       " 0.0"
      ]
     },
     "metadata": {},
     "output_type": "display_data"
    },
    {
     "data": {
      "image/png": "[encoded data removed]",
      "text/plain": [
       "PyPlot.Figure(PyObject <matplotlib.figure.Figure object at 0x12964a0d0>)"
      ]
     },
     "metadata": {},
     "output_type": "display_data"
    },
    {
     "data": {
      "text/plain": [
       "PyObject <matplotlib.colorbar.Colorbar object at 0x1297d4610>"
      ]
     },
     "execution_count": 6,
     "metadata": {},
     "output_type": "execute_result"
    }
   ],
   "source": [
    "# signal encoding and image reconstruction\n",
    "c = vcat(c1[:]',c2[:]',c3[:]',c4[:]',c5[:]',c6[:]',c7[:]',c8[:]',c9[:]',c10[:]',c11[:]',c12[:]',c13[:]',c14[:]',c15[:]',c16[:]')\n",
    "display(c)\n",
    "signals = c*a2dImage_column\n",
    "display(signals)\n",
    "reconstructedImage = c\\signals\n",
    "display(reconstructedImage)\n",
    "reconstructedImage2D = reshape(reconstructedImage,4,4)\n",
    "imshow(reconstructedImage2D,cmap=\"gray\",interpolation=\"none\");axis(\"off\");colorbar()"
   ]
  },
  {
   "cell_type": "markdown",
   "metadata": {},
   "source": [
    "### Encoding and reconstruction of a2dImage signals with a not-so-perfect sensitivity pattern"
   ]
  },
  {
   "cell_type": "code",
   "execution_count": 7,
   "metadata": {
    "collapsed": false
   },
   "outputs": [
    {
     "data": {
      "text/plain": [
       "16×16 Array{Float64,2}:\n",
       " 1.0  0.8  0.2  0.0  0.0  0.0  0.0  0.0  …  0.0  0.0  0.0  0.0  0.0  0.3  0.9\n",
       " 0.9  1.0  0.8  0.2  0.0  0.0  0.0  0.0     0.0  0.0  0.0  0.0  0.0  0.0  0.3\n",
       " 0.3  0.9  1.0  0.8  0.2  0.0  0.0  0.0     0.0  0.0  0.0  0.0  0.0  0.0  0.0\n",
       " 0.0  0.3  0.9  1.0  0.8  0.2  0.0  0.0     0.0  0.0  0.0  0.0  0.0  0.0  0.0\n",
       " 0.0  0.0  0.3  0.9  1.0  0.8  0.2  0.0     0.0  0.0  0.0  0.0  0.0  0.0  0.0\n",
       " 0.0  0.0  0.0  0.3  0.9  1.0  0.8  0.2  …  0.0  0.0  0.0  0.0  0.0  0.0  0.0\n",
       " 0.0  0.0  0.0  0.0  0.3  0.9  1.0  0.8     0.0  0.0  0.0  0.0  0.0  0.0  0.0\n",
       " 0.0  0.0  0.0  0.0  0.0  0.3  0.9  1.0     0.2  0.0  0.0  0.0  0.0  0.0  0.0\n",
       " 0.0  0.0  0.0  0.0  0.0  0.0  0.3  0.9     0.8  0.2  0.0  0.0  0.0  0.0  0.0\n",
       " 0.0  0.0  0.0  0.0  0.0  0.0  0.0  0.3     1.0  0.8  0.2  0.0  0.0  0.0  0.0\n",
       " 0.0  0.0  0.0  0.0  0.0  0.0  0.0  0.0  …  0.9  1.0  0.8  0.2  0.0  0.0  0.0\n",
       " 0.0  0.0  0.0  0.0  0.0  0.0  0.0  0.0     0.3  0.9  1.0  0.8  0.2  0.0  0.0\n",
       " 0.0  0.0  0.0  0.0  0.0  0.0  0.0  0.0     0.0  0.3  0.9  1.0  0.8  0.2  0.0\n",
       " 0.0  0.0  0.0  0.0  0.0  0.0  0.0  0.0     0.0  0.0  0.3  0.9  1.0  0.8  0.2\n",
       " 0.2  0.0  0.0  0.0  0.0  0.0  0.0  0.0     0.0  0.0  0.0  0.3  0.9  1.0  0.8\n",
       " 0.8  0.2  0.0  0.0  0.0  0.0  0.0  0.0  …  0.0  0.0  0.0  0.0  0.3  0.9  1.0"
      ]
     },
     "metadata": {},
     "output_type": "display_data"
    },
    {
     "data": {
      "text/plain": [
       "16-element Array{Float64,1}:\n",
       " 0.66\n",
       " 0.0 \n",
       " 0.0 \n",
       " 0.88\n",
       " 3.52\n",
       " 4.4 \n",
       " 3.96\n",
       " 1.32\n",
       " 0.0 \n",
       " 0.0 \n",
       " 0.16\n",
       " 0.64\n",
       " 1.24\n",
       " 2.48\n",
       " 2.44\n",
       " 1.98"
      ]
     },
     "metadata": {},
     "output_type": "display_data"
    },
    {
     "data": {
      "text/plain": [
       "16-element Array{Float64,1}:\n",
       "  6.23476e-15\n",
       " -9.21407e-16\n",
       " -6.39393e-15\n",
       "  6.32047e-15\n",
       "  1.56523e-15\n",
       "  4.4        \n",
       "  4.43893e-15\n",
       "  4.23193e-15\n",
       " -7.44071e-15\n",
       "  1.10552e-15\n",
       "  7.07239e-15\n",
       " -6.68261e-15\n",
       "  0.8        \n",
       "  9.43441e-15\n",
       "  2.2        \n",
       " -2.55083e-15"
      ]
     },
     "metadata": {},
     "output_type": "display_data"
    },
    {
     "data": {
      "image/png": "[encoded data removed]",
      "text/plain": [
       "PyPlot.Figure(PyObject <matplotlib.figure.Figure object at 0x1320edb50>)"
      ]
     },
     "metadata": {},
     "output_type": "display_data"
    },
    {
     "data": {
      "text/plain": [
       "PyObject <matplotlib.colorbar.Colorbar object at 0x132302610>"
      ]
     },
     "execution_count": 7,
     "metadata": {},
     "output_type": "execute_result"
    }
   ],
   "source": [
    "# signal encoding and image reconstruction\n",
    "c_not_perfect = eye(Float64,16,16) + 0.9*circshift(eye(Float64,16,16),1)+ 0.8*circshift(eye(Float64,16,16),-1) + 0.3*circshift(eye(Float64,16,16),2)+ 0.2*circshift(eye(Float64,16,16),-2)\n",
    "display(c_not_perfect)\n",
    "signals = c_not_perfect*a2dImage_column\n",
    "display(signals)\n",
    "reconstructedImage = c_not_perfect\\signals\n",
    "display(reconstructedImage)\n",
    "reconstructedImage2D = reshape(reconstructedImage,4,4)\n",
    "imshow(reconstructedImage2D,cmap=\"gray\",interpolation=\"none\");axis(\"off\");colorbar()"
   ]
  },
  {
   "cell_type": "markdown",
   "metadata": {},
   "source": [
    "### Phase-encoding (instead of sensitivity encoding)"
   ]
  },
  {
   "cell_type": "code",
   "execution_count": 8,
   "metadata": {
    "collapsed": false
   },
   "outputs": [
    {
     "data": {
      "text/plain": [
       "4×4 Array{Complex{Float64},2}:\n",
       "  1.0-4.89859e-16im  -1.0+3.67394e-16im  …  -1.0+1.22465e-16im\n",
       " -1.0+3.67394e-16im   1.0-2.44929e-16im      1.0+0.0im        \n",
       "  1.0-2.44929e-16im  -1.0+1.22465e-16im     -1.0-1.22465e-16im\n",
       " -1.0+1.22465e-16im   1.0+0.0im              1.0+2.44929e-16im"
      ]
     },
     "metadata": {},
     "output_type": "display_data"
    },
    {
     "data": {
      "text/plain": [
       "4×4 Array{Float64,2}:\n",
       " -4.89859e-16   3.14159      -2.44929e-16   3.14159    \n",
       "  3.14159      -2.44929e-16   3.14159       0.0        \n",
       " -2.44929e-16   3.14159      -0.0          -3.14159    \n",
       "  3.14159       0.0          -3.14159       2.44929e-16"
      ]
     },
     "metadata": {},
     "output_type": "display_data"
    }
   ],
   "source": [
    "f1 = zeros(Complex{Float64},4,4)\n",
    "for y = 1:4\n",
    "    for x = 1:4\n",
    "        f1[x,y]=exp(1im*2*π*(y-3)*(-2)/4)*exp(1im*2*π*(x-3)*(-2)/4)\n",
    "    end\n",
    "end\n",
    "display(f1)\n",
    "display(angle.(f1))"
   ]
  },
  {
   "cell_type": "code",
   "execution_count": 9,
   "metadata": {
    "collapsed": false
   },
   "outputs": [
    {
     "data": {
      "text/plain": [
       "4×4 Array{Complex{Float64},2}:\n",
       "  1.0-4.89859e-16im  -1.0+3.67394e-16im  …  -1.0+1.22465e-16im\n",
       " -1.0+3.67394e-16im   1.0-2.44929e-16im      1.0+0.0im        \n",
       "  1.0-2.44929e-16im  -1.0+1.22465e-16im     -1.0-1.22465e-16im\n",
       " -1.0+1.22465e-16im   1.0+0.0im              1.0+2.44929e-16im"
      ]
     },
     "metadata": {},
     "output_type": "display_data"
    },
    {
     "data": {
      "text/plain": [
       "4×4 Array{Float64,2}:\n",
       " -4.89859e-16   3.14159      -2.44929e-16   3.14159    \n",
       "  3.14159      -2.44929e-16   3.14159       0.0        \n",
       " -2.44929e-16   3.14159      -0.0          -3.14159    \n",
       "  3.14159       0.0          -3.14159       2.44929e-16"
      ]
     },
     "metadata": {},
     "output_type": "display_data"
    }
   ],
   "source": [
    "# a quicker way to define f1\n",
    "f1=reshape(Complex128[exp(1im*2*π*(y-3)*(-2)/4)*exp(1im*2*π*(x-3)*(-2)/4) for x in 1:4 for y in 1:4],4,4)\n",
    "display(f1)\n",
    "display(angle.(f1))"
   ]
  },
  {
   "cell_type": "code",
   "execution_count": 10,
   "metadata": {
    "collapsed": false
   },
   "outputs": [
    {
     "data": {
      "text/plain": [
       "16×16 Array{Complex{Float64},2}:\n",
       "  1.0+4.89859e-16im  …           1.0-2.44929e-16im\n",
       " -1.0-3.67394e-16im     -1.83697e-16-1.0im        \n",
       "  1.0+2.44929e-16im             -1.0+1.22465e-16im\n",
       " -1.0-1.22465e-16im      6.12323e-17+1.0im        \n",
       " -1.0-3.67394e-16im     -1.83697e-16-1.0im        \n",
       "  1.0+2.44929e-16im  …          -1.0+1.22465e-16im\n",
       " -1.0-1.22465e-16im      6.12323e-17+1.0im        \n",
       "  1.0-0.0im                      1.0-0.0im        \n",
       "  1.0+2.44929e-16im             -1.0+1.22465e-16im\n",
       " -1.0-1.22465e-16im      6.12323e-17+1.0im        \n",
       "  1.0+0.0im          …           1.0-0.0im        \n",
       " -1.0+1.22465e-16im      6.12323e-17-1.0im        \n",
       " -1.0-1.22465e-16im      6.12323e-17+1.0im        \n",
       "  1.0-0.0im                      1.0-0.0im        \n",
       " -1.0+1.22465e-16im      6.12323e-17-1.0im        \n",
       "  1.0-2.44929e-16im  …          -1.0-1.22465e-16im"
      ]
     },
     "metadata": {},
     "output_type": "display_data"
    },
    {
     "data": {
      "text/plain": [
       "16-element Array{Float64,1}:\n",
       "  3.14159\n",
       "  3.14159\n",
       "  3.14159\n",
       "  3.14159\n",
       "  1.5708 \n",
       "  1.5708 \n",
       "  1.5708 \n",
       "  1.5708 \n",
       " -0.0    \n",
       " -0.0    \n",
       "  0.0    \n",
       "  0.0    \n",
       " -1.5708 \n",
       " -1.5708 \n",
       " -1.5708 \n",
       " -1.5708 "
      ]
     },
     "metadata": {},
     "output_type": "display_data"
    }
   ],
   "source": [
    "f1=Complex128[exp(1im*2*π*(y-3)*(-2)/4)*exp(1im*2*π*(x-3)*(-2)/4) for x in 1:4 for y in 1:4]\n",
    "f2=Complex128[exp(1im*2*π*(y-3)*(-1)/4)*exp(1im*2*π*(x-3)*(-2)/4) for x in 1:4 for y in 1:4]\n",
    "f3=Complex128[exp(1im*2*π*(y-3)*(0)/4)*exp(1im*2*π*(x-3)*(-2)/4) for x in 1:4 for y in 1:4]\n",
    "f4=Complex128[exp(1im*2*π*(y-3)*(1)/4)*exp(1im*2*π*(x-3)*(-2)/4) for x in 1:4 for y in 1:4]\n",
    "f5=Complex128[exp(1im*2*π*(y-3)*(-2)/4)*exp(1im*2*π*(x-3)*(-1)/4) for x in 1:4 for y in 1:4]\n",
    "f6=Complex128[exp(1im*2*π*(y-3)*(-1)/4)*exp(1im*2*π*(x-3)*(-1)/4) for x in 1:4 for y in 1:4]\n",
    "f7=Complex128[exp(1im*2*π*(y-3)*(0)/4)*exp(1im*2*π*(x-3)*(-1)/4) for x in 1:4 for y in 1:4]\n",
    "f8=Complex128[exp(1im*2*π*(y-3)*(1)/4)*exp(1im*2*π*(x-3)*(-1)/4) for x in 1:4 for y in 1:4]\n",
    "f9=Complex128[exp(1im*2*π*(y-3)*(-2)/4)*exp(1im*2*π*(x-3)*(0)/4) for x in 1:4 for y in 1:4]\n",
    "f10=Complex128[exp(1im*2*π*(y-3)*(-1)/4)*exp(1im*2*π*(x-3)*(0)/4) for x in 1:4 for y in 1:4]\n",
    "f11=Complex128[exp(1im*2*π*(y-3)*(0)/4)*exp(1im*2*π*(x-3)*(0)/4) for x in 1:4 for y in 1:4]\n",
    "f12=Complex128[exp(1im*2*π*(y-3)*(1)/4)*exp(1im*2*π*(x-3)*(0)/4) for x in 1:4 for y in 1:4]\n",
    "f13=Complex128[exp(1im*2*π*(y-3)*(-2)/4)*exp(1im*2*π*(x-3)*(1)/4) for x in 1:4 for y in 1:4]\n",
    "f14=Complex128[exp(1im*2*π*(y-3)*(-1)/4)*exp(1im*2*π*(x-3)*(1)/4) for x in 1:4 for y in 1:4]\n",
    "f15=Complex128[exp(1im*2*π*(y-3)*(0)/4)*exp(1im*2*π*(x-3)*(1)/4) for x in 1:4 for y in 1:4]\n",
    "f16=Complex128[exp(1im*2*π*(y-3)*(1)/4)*exp(1im*2*π*(x-3)*(1)/4) for x in 1:4 for y in 1:4]\n",
    "f = vcat(f1[:]',f2[:]',f3[:]',f4[:]',f5[:]',f6[:]',f7[:]',f8[:]',f9[:]',f10[:]',f11[:]',f12[:]',f13[:]',f14[:]',f15[:]',f16[:]')\n",
    "display(f)\n",
    "display(angle.(f7))"
   ]
  },
  {
   "cell_type": "code",
   "execution_count": 11,
   "metadata": {
    "collapsed": false
   },
   "outputs": [
    {
     "data": {
      "text/plain": [
       "16-element Array{Complex{Float64},1}:\n",
       "          1.4+1.24914e-15im\n",
       "         -1.4+4.4im        \n",
       "         -7.4-1.71451e-16im\n",
       "         -1.4-4.4im        \n",
       " -8.20513e-16+7.4im        \n",
       "         -4.4+1.4im        \n",
       "  4.53119e-16-1.4im        \n",
       "          4.4+1.4im        \n",
       "         -1.4-3.42901e-16im\n",
       "          1.4-4.4im        \n",
       "          7.4+0.0im        \n",
       "          1.4+4.4im        \n",
       "  6.49063e-16-7.4im        \n",
       "          4.4-1.4im        \n",
       "  4.53119e-16+1.4im        \n",
       "         -4.4-1.4im        "
      ]
     },
     "metadata": {},
     "output_type": "display_data"
    },
    {
     "data": {
      "image/png": "[encoded data removed]",
      "text/plain": [
       "PyPlot.Figure(PyObject <matplotlib.figure.Figure object at 0x12981bad0>)"
      ]
     },
     "metadata": {},
     "output_type": "display_data"
    },
    {
     "data": {
      "text/plain": [
       "PyObject <matplotlib.colorbar.Colorbar object at 0x129053d50>"
      ]
     },
     "execution_count": 11,
     "metadata": {},
     "output_type": "execute_result"
    }
   ],
   "source": [
    "# Image reconstruction\n",
    "signals = f*a2dImage_column\n",
    "display(signals)\n",
    "reconstructedImage = f\\signals\n",
    "reconstructedImage2D = reshape(reconstructedImage,4,4)\n",
    "imshow(abs.(reconstructedImage2D),cmap=\"gray\",interpolation=\"none\");axis(\"off\");colorbar()"
   ]
  },
  {
   "cell_type": "code",
   "execution_count": 12,
   "metadata": {
    "collapsed": false
   },
   "outputs": [
    {
     "data": {
      "image/png": "[encoded data removed]",
      "text/plain": [
       "PyPlot.Figure(PyObject <matplotlib.figure.Figure object at 0x1324e1dd0>)"
      ]
     },
     "metadata": {},
     "output_type": "display_data"
    },
    {
     "data": {
      "text/plain": [
       "PyObject <matplotlib.colorbar.Colorbar object at 0x132623650>"
      ]
     },
     "execution_count": 12,
     "metadata": {},
     "output_type": "execute_result"
    }
   ],
   "source": [
    "# Another way of reconstruction\n",
    "signals = f*a2dImage_column\n",
    "signals2D = reshape(signals,4,4)\n",
    "reconstructedImage2D_FT = ifftshift(ifftshift(ifft(ifftshift(ifftshift(signals2D,2),1)),1),2)\n",
    "imshow(abs.(reconstructedImage2D_FT),cmap=\"gray\",interpolation=\"none\");axis(\"off\");colorbar()"
   ]
  },
  {
   "cell_type": "code",
   "execution_count": null,
   "metadata": {
    "collapsed": true
   },
   "outputs": [],
   "source": []
  }
 ],
 "metadata": {
  "kernelspec": {
   "display_name": "Julia 0.6.0",
   "language": "julia",
   "name": "julia-0.6"
  },
  "language_info": {
   "file_extension": ".jl",
   "mimetype": "application/julia",
   "name": "julia",
   "version": "0.6.0"
  }
 },
 "nbformat": 4,
 "nbformat_minor": 1
}
